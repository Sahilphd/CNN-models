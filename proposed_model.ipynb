{
  "nbformat": 4,
  "nbformat_minor": 0,
  "metadata": {
    "accelerator": "GPU",
    "colab": {
      "provenance": []
    },
    "kernelspec": {
      "display_name": "Python 3",
      "name": "python3"
    },
    "language_info": {
      "name": "python"
    }
  },
  "cells": [
    {
      "cell_type": "code",
      "metadata": {
        "colab": {
          "base_uri": "https://localhost:8080/"
        },
        "id": "5qYoKbMVwoD8",
        "outputId": "ebd0c0c3-8468-4fd3-b668-cdd08af776a5"
      },
      "source": [
        "from google.colab import drive\n",
        "drive.mount('/content/drive')"
      ],
      "execution_count": null,
      "outputs": [
        {
          "output_type": "stream",
          "name": "stdout",
          "text": [
            "Drive already mounted at /content/drive; to attempt to forcibly remount, call drive.mount(\"/content/drive\", force_remount=True).\n"
          ]
        }
      ]
    },
    {
      "cell_type": "code",
      "metadata": {
        "id": "KzaeKQewzhef"
      },
      "source": [
        "from keras.preprocessing import image\n",
        "from keras import applications\n",
        "import tensorflow as tf\n",
        "import pandas as pd\n",
        "import numpy as np\n",
        "from keras.layers import Dense, Flatten, Dropout, MaxPooling2D, Dropout, BatchNormalization\n",
        "from keras.models import Model\n",
        "import itertools\n",
        "import matplotlib.pyplot as plt\n",
        "from sklearn.metrics import confusion_matrix\n",
        "from sklearn.metrics import classification_report\n",
        "from keras.preprocessing.image import ImageDataGenerator"
      ],
      "execution_count": null,
      "outputs": []
    },
    {
      "cell_type": "code",
      "metadata": {
        "id": "2HEAjH5B2b41"
      },
      "source": [
        "datagen = ImageDataGenerator(rescale = 1./255)\n",
        "\n",
        "training_set = datagen.flow_from_directory(\n",
        "    '/content/drive/MyDrive/Food_crops/train',\n",
        "        target_size=(224,224),\n",
        "        batch_size=32,\n",
        "        shuffle= False,\n",
        "        class_mode='categorical')\n",
        "\n",
        "val_set = datagen.flow_from_directory(\n",
        "        '/content/drive/MyDrive/Food_crops/validate',\n",
        "        target_size=(224,224),\n",
        "        batch_size=16,\n",
        "        shuffle= False,\n",
        "        class_mode=\"categorical\")\n",
        "\n",
        "test_set = datagen.flow_from_directory(\n",
        "        '/content/drive/MyDrive/Food_crops/test',\n",
        "        target_size=(224,224),\n",
        "        batch_size=1,\n",
        "        shuffle= False,\n",
        "        class_mode=\"categorical\")"
      ],
      "execution_count": null,
      "outputs": []
    },
    {
      "cell_type": "code",
      "metadata": {
        "id": "3oY01TLs-wR0"
      },
      "source": [
        "csv_logger = tf.keras.callbacks.CSVLogger('/content/drive/MyDrive/Food_crops/training.csv', append=True)\n",
        "\n",
        "img_inputs = tf.keras.Input(shape=(224, 224, 3))\n",
        "\n",
        "xa = tf.keras.layers.Conv2D(filters = 64,kernel_size = (3,3), activation=\"relu\")(img_inputs)\n",
        "xa = tf.keras.layers.Conv2D(filters = 64,kernel_size = (3,3), activation=\"relu\")(xa)\n",
        "xa = tf.keras.layers.SeparableConv2D(filters = 64,kernel_size = (3,3), activation=\"relu\")(xa)\n",
        "xa = tf.keras.layers.GlobalMaxPooling2D()(xa)\n",
        "xa = Dense(64, activation = 'relu')(xa)\n",
        "\n",
        "xb = tf.keras.layers.Conv2D(filters = 64,kernel_size = (5,5), activation=\"relu\")(img_inputs)\n",
        "xb = tf.keras.layers.Conv2D(filters = 64,kernel_size = (5,5), activation=\"relu\")(xb)\n",
        "xb = tf.keras.layers.SeparableConv2D(filters = 64,kernel_size = (5,5), activation=\"relu\")(xb)\n",
        "xb = tf.keras.layers.GlobalMaxPooling2D()(xb)\n",
        "xb = Dense(64, activation = 'relu')(xb)\n",
        "\n",
        "xd = tf.keras.layers.Conv2D(filters = 64,kernel_size = (7,7), activation=\"relu\")(img_inputs)\n",
        "xd = tf.keras.layers.Conv2D(filters = 64,kernel_size = (7,7), activation=\"relu\")(xd)\n",
        "xd = tf.keras.layers.SeparableConv2D(filters = 64,kernel_size = (7,7), activation=\"relu\")(xd)\n",
        "xd = tf.keras.layers.GlobalMaxPooling2D()(xd)\n",
        "xd = Dense(64, activation = 'relu')(xd)\n",
        "\n",
        "xc = tf.keras.layers.Average()([xa, xb, xd])\n",
        "\n",
        "output = Dense(12, activation = 'softmax')(xc)\n",
        "\n",
        "model = Model(inputs = img_inputs, outputs = output)\n",
        "\n",
        "model.compile(optimizer = 'adam', loss = 'categorical_crossentropy', metrics = ['accuracy'])\n",
        "\n",
        "# model.summary()\n",
        "\n",
        "r1 = model.fit(training_set,epochs=50,validation_data = val_set, callbacks = [csv_logger])\n",
        "\n"
      ],
      "execution_count": null,
      "outputs": []
    },
    {
      "cell_type": "code",
      "metadata": {
        "id": "q12C7vpT-woe"
      },
      "source": [
        "Y_pred = model.predict(test_set)\n",
        "y_pred = np.argmax(Y_pred, axis=1)\n",
        "\n",
        "\n",
        "cm = confusion_matrix(test_set.classes, y_pred)\n",
        "df = pd.DataFrame(cm, index=None)\n",
        "df.to_excel(\"/content/drive/MyDrive/Food_crops/Model_confusionmatrix.xlsx\")\n",
        "\n",
        "\n",
        "report = classification_report(test_set.classes, y_pred, output_dict=True)\n",
        "dff = pd.DataFrame(report).transpose()\n",
        "dff.to_excel(\"/content/drive/MyDrive/Food_crops/Model_classificationreport.xlsx\")"
      ],
      "execution_count": null,
      "outputs": []
    },
    {
      "cell_type": "code",
      "metadata": {
        "id": "FSivV1Fy_Coy"
      },
      "source": [],
      "execution_count": null,
      "outputs": []
    }
  ]
}
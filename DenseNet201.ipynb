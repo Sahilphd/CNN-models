{
  "nbformat": 4,
  "nbformat_minor": 0,
  "metadata": {
    "accelerator": "GPU",
    "colab": {
      "provenance": []
    },
    "kernelspec": {
      "display_name": "Python 3",
      "name": "python3"
    },
    "language_info": {
      "name": "python"
    }
  },
  "cells": [
    {
      "cell_type": "code",
      "metadata": {
        "colab": {
          "base_uri": "https://localhost:8080/"
        },
        "id": "5qYoKbMVwoD8",
        "outputId": "37bb07e2-77aa-4e9a-f47c-cce0363b36ea"
      },
      "source": [
        "from google.colab import drive\n",
        "drive.mount('/content/drive')"
      ],
      "execution_count": null,
      "outputs": [
        {
          "output_type": "stream",
          "name": "stdout",
          "text": [
            "Mounted at /content/drive\n"
          ]
        }
      ]
    },
    {
      "cell_type": "code",
      "metadata": {
        "id": "KzaeKQewzhef"
      },
      "source": [
        "from keras.preprocessing import image\n",
        "from keras import applications\n",
        "import tensorflow as tf\n",
        "import pandas as pd\n",
        "import numpy as np\n",
        "from keras.layers import Dense, Flatten, Dropout\n",
        "from keras.models import Model\n",
        "import itertools\n",
        "import matplotlib.pyplot as plt\n",
        "from sklearn.metrics import confusion_matrix\n",
        "from sklearn.metrics import classification_report\n",
        "from keras.preprocessing.image import ImageDataGenerator"
      ],
      "execution_count": null,
      "outputs": []
    },
    {
      "cell_type": "code",
      "metadata": {
        "id": "2HEAjH5B2b41"
      },
      "source": [
        "datagen = ImageDataGenerator(rescale=1./255)\n",
        "\n",
        "\n",
        "training_set = datagen.flow_from_directory(\n",
        "    '/content/drive/MyDrive/Food_Crops/train',\n",
        "        target_size=(224, 224),\n",
        "        batch_size=32,\n",
        "        shuffle= False,\n",
        "        class_mode='categorical')\n",
        "\n",
        "val_set = datagen.flow_from_directory(\n",
        "        '/content/drive/MyDrive/Food_Crops/validate',\n",
        "        target_size=(224, 224),\n",
        "        batch_size=16,\n",
        "        shuffle= False,\n",
        "        class_mode=\"categorical\")\n",
        "\n",
        "test_set = datagen.flow_from_directory(\n",
        "        '/content/drive/MyDrive/Food_Crops/test',\n",
        "        target_size=(224, 224),\n",
        "        batch_size=1,\n",
        "        shuffle= False,\n",
        "        class_mode=\"categorical\")"
      ],
      "execution_count": null,
      "outputs": []
    },
    {
      "cell_type": "code",
      "metadata": {
        "id": "8VBLiUPxfs-f"
      },
      "source": [
        "csv_logger = tf.keras.callbacks.CSVLogger('/content/drive/MyDrive/Results/DenseNet201_training.csv', append=True)\n",
        "\n",
        "model_DenseNet201 = tf.keras.applications.DenseNet201(input_shape=(224, 224,3), weights='imagenet', include_top=False)\n",
        "\n",
        "for layer in model_DenseNet201.layers:\n",
        "    layer.trainable = False\n",
        "\n",
        "x = Flatten()(model_DenseNet201.layers[-1].output)\n",
        "\n",
        "output= Dense(12, activation = 'softmax')(x)\n",
        "\n",
        "model = Model(inputs = model_DenseNet201.inputs, outputs = output)\n",
        "\n",
        "model.compile(optimizer = 'adam', loss = 'categorical_crossentropy', metrics = ['accuracy'])\n",
        "\n",
        "r1 = model.fit(training_set,epochs=50,validation_data = val_set, callbacks = [csv_logger])\n",
        "\n",
        "Y_pred = model.predict(test_set)\n",
        "y_pred = np.argmax(Y_pred, axis=1)\n",
        "\n",
        "print('Confusion Matrix')\n",
        "cm = confusion_matrix(test_set.classes, y_pred)\n",
        "df = pd.DataFrame(cm, index=None)\n",
        "df.to_excel(\"/content/drive/MyDrive/Results/DenseNet201_confusionmatrix.xlsx\")\n",
        "print(cm)\n",
        "\n",
        "print('Classification Report')\n",
        "print(classification_report(test_set.classes, y_pred))\n",
        "report = classification_report(test_set.classes, y_pred, output_dict=True)\n",
        "dff = pd.DataFrame(report).transpose()\n",
        "dff.to_excel(\"/content/drive/MyDrive/Results/DenseNet201_classificationreport.xlsx\")"
      ],
      "execution_count": null,
      "outputs": []
    },
    {
      "cell_type": "code",
      "metadata": {
        "id": "TlhRx1WXt48E"
      },
      "source": [],
      "execution_count": null,
      "outputs": []
    }
  ]
}